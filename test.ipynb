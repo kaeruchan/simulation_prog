{
 "cells": [
  {
   "cell_type": "code",
   "execution_count": 3,
   "metadata": {},
   "outputs": [
    {
     "name": "stdout",
     "output_type": "stream",
     "text": [
      "[0 1 2 3 4 5 6 7 8 9]\n",
      "[0 1 2 3 4 5]\n",
      "[6 7 8 9]\n",
      "3024\n"
     ]
    }
   ],
   "source": [
    "import numpy as np\n",
    "\n",
    "a = np.arange(10)\n",
    "\n",
    "b = np.split(a,[6])[0]\n",
    "c = np.split(a,[6])[1]\n",
    "\n",
    "print(a)\n",
    "print(b)\n",
    "print(c)\n",
    "\n",
    "print(np.prod(c))"
   ]
  },
  {
   "cell_type": "code",
   "execution_count": 27,
   "metadata": {},
   "outputs": [
    {
     "name": "stdout",
     "output_type": "stream",
     "text": [
      "(40.10828542028864+0j)\n",
      "(0.1507555229401846-9.389044202450027e-19j)\n"
     ]
    }
   ],
   "source": [
    "import numpy as np\n",
    "from numpy.random import normal\n",
    "from numpy.linalg import norm\n",
    "from numpy.linalg import svd\n",
    "from numpy.linalg import pinv\n",
    "from numpy.linalg import multi_dot\n",
    "from numpy.linalg import det\n",
    "from scipy.linalg import null_space\n",
    "def hermitian(matrix):\n",
    "    return np.conjugate(matrix.T)\n",
    "\n",
    "sum = 0\n",
    "res_sum = 0\n",
    "for i in range(10000):\n",
    "    a_real = normal(size=(2,4))\n",
    "    a_imag = normal(size=(2,4))\n",
    "    a = a_real + 1j * a_imag\n",
    "    print(null_space(a))\n",
    "\n",
    "\n",
    "    a_1 = np.hsplit(a,2)[0]\n",
    "    a_2 = np.hsplit(a,2)[1]\n",
    "\n",
    "    u_1, Lambda_1, vh_1 = svd(a_1)\n",
    "    # print(Lambda_1)\n",
    "    # print(multi_dot([\n",
    "    #     hermitian(u_1),\n",
    "    #     a_1,\n",
    "    #     hermitian(vh_1),\n",
    "    #     vh_1,\n",
    "    #     hermitian(a_1),\n",
    "    #     u_1\n",
    "    # ]))\n",
    "\n",
    "    w_1 = hermitian(vh_1)\n",
    "    w_2 = multi_dot([pinv(a_2),a_1,w_1])\n",
    "\n",
    "    w_2_norm = norm(w_2, 'fro')\n",
    "\n",
    "    w_2_unit = w_2/w_2_norm\n",
    "\n",
    "    # res_1 = np.dot(w_2, hermitian(w_2)) / w_2_norm ** 2\n",
    "    # res_2 = np.dot(w_2_unit, hermitian(w_2_unit))\n",
    "\n",
    "    res_1_matrix = multi_dot([\n",
    "        hermitian(u_1),\n",
    "        a_1,\n",
    "        w_1,\n",
    "        hermitian(w_1),\n",
    "        hermitian(a_1),\n",
    "        u_1  \n",
    "    ])\n",
    "\n",
    "    res_2_matrix = multi_dot([\n",
    "        hermitian(u_1),\n",
    "        a_1,\n",
    "        w_2_unit,\n",
    "        hermitian(w_2_unit),\n",
    "        hermitian(a_1),\n",
    "        u_1  \n",
    "    ])\n",
    "    \n",
    "    res_sum += np.log2(1 + 1 / np.trace(np.dot(w_2,hermitian(w_2))) * det(res_2_matrix))\n",
    "    \n",
    "    sum += np.trace(np.dot(w_2,hermitian(w_2)))\n",
    "\n",
    "# print(norm(w_2,'fro'))\n",
    "# print(w_2)\n",
    "# print(w_2_norm ** 2)\n",
    "# print(det(res_1_matrix))\n",
    "# print((np.dot(w_2_unit,hermitian(w_2_unit))))\n",
    "# print(multi_dot([\n",
    "#     hermitian(u_1),\n",
    "#     a_2,\n",
    "#     w_2,\n",
    "#     hermitian(w_2),\n",
    "#     hermitian(a_2),\n",
    "#     u_1\n",
    "# ]))\n",
    "# Lambda_1_diag = np.diag(Lambda_1)\n",
    "# print(np.dot(Lambda_1_diag,Lambda_1_diag))\n",
    "# print(np.trace(np.dot(w_2,hermitian(w_2))))\n",
    "print(sum / 10000)\n",
    "print(res_sum/10000)\n",
    "# sum = 0\n",
    "# for i in range(10000):\n",
    "#     sum += np.trace(np.dot(a_2,hermitian(a_2)))\n",
    "# print(sum/10000)\n",
    "# print(det(res_2_matrix))\n",
    "\n"
   ]
  },
  {
   "cell_type": "code",
   "execution_count": 167,
   "metadata": {},
   "outputs": [
    {
     "name": "stdout",
     "output_type": "stream",
     "text": [
      "(191.1615033271055-6.773186234997404e-16j)\n",
      "(105.91866640764697-5.153759597631901e-15j)\n",
      "[[ 0.92117027+0.4477072j  -1.42300066+1.50718407j]\n",
      " [ 0.8815379 -0.1999043j   0.05048415-1.84533379j]]\n",
      "[[ 0.92117027+0.4477072j  -1.42300066+1.50718407j]\n",
      " [ 0.8815379 -0.1999043j   0.05048415-1.84533379j]]\n"
     ]
    }
   ],
   "source": [
    "import numpy as np\n",
    "from numpy.random import normal\n",
    "from numpy.linalg import norm\n",
    "from numpy.linalg import svd\n",
    "from numpy.linalg import pinv\n",
    "from numpy.linalg import multi_dot\n",
    "from numpy.linalg import det\n",
    "from scipy.linalg import null_space\n",
    "from numpy.linalg import eig\n",
    "def hermitian(matrix):\n",
    "    return np.conjugate(matrix.T)\n",
    "\n",
    "a = np.zeros((2,2,3),dtype=complex)\n",
    "\n",
    "sum_a = np.zeros((2,2),dtype=complex)\n",
    "for i in range(3):\n",
    "    a_real = normal(size=(2,2))\n",
    "    a_imag = normal(size=(2,2))    \n",
    "    a[:,:,i] = a_real + 1j * a_imag\n",
    "    sum_a += a[:,:,i]\n",
    "\n",
    "u, Lambda, vh = svd(sum_a)\n",
    "\n",
    "v = hermitian(vh)\n",
    "sum_lambda = np.zeros((2,2),dtype=complex)\n",
    "for i in range(3):\n",
    "    sum_lambda += multi_dot([\n",
    "        hermitian(u),\n",
    "        a[:,:,i],\n",
    "        v,\n",
    "        vh,\n",
    "        hermitian(a[:,:,i]),\n",
    "        u\n",
    "        ])\n",
    "    \n",
    "lambda_sum = multi_dot([hermitian(u),sum_a,v,vh,hermitian(sum_a),u])\n",
    "print(det(sum_lambda))\n",
    "print(det(lambda_sum))\n",
    "\n",
    "w, v = eig(a[:,:,0])\n",
    "\n",
    "print(a[:,:,0] @ v)\n",
    "print(w * v)\n",
    "# print(np.dot(v, np.ones((2,2)) - w))\n"
   ]
  },
  {
   "cell_type": "code",
   "execution_count": 231,
   "metadata": {},
   "outputs": [
    {
     "name": "stdout",
     "output_type": "stream",
     "text": [
      "(-0.1503374312628771-0.31849027957040715j)\n"
     ]
    },
    {
     "ename": "LinAlgError",
     "evalue": "Last 2 dimensions of the array must be square",
     "output_type": "error",
     "traceback": [
      "\u001b[0;31m---------------------------------------------------------------------------\u001b[0m",
      "\u001b[0;31mLinAlgError\u001b[0m                               Traceback (most recent call last)",
      "\u001b[1;32m/home/shin/Dropbox/programming/python/ieee_security/journal/new_gpu2/test.ipynb Cell 4'\u001b[0m in \u001b[0;36m<cell line: 60>\u001b[0;34m()\u001b[0m\n\u001b[1;32m     <a href='vscode-notebook-cell://ssh-remote%2Bsoundgarden.ochiailab.jp/home/shin/Dropbox/programming/python/ieee_security/journal/new_gpu2/test.ipynb#ch0000015vscode-remote?line=53'>54</a>\u001b[0m W_2 \u001b[39m=\u001b[39m multi_dot([\n\u001b[1;32m     <a href='vscode-notebook-cell://ssh-remote%2Bsoundgarden.ochiailab.jp/home/shin/Dropbox/programming/python/ieee_security/journal/new_gpu2/test.ipynb#ch0000015vscode-remote?line=54'>55</a>\u001b[0m     pinv(h),\n\u001b[1;32m     <a href='vscode-notebook-cell://ssh-remote%2Bsoundgarden.ochiailab.jp/home/shin/Dropbox/programming/python/ieee_security/journal/new_gpu2/test.ipynb#ch0000015vscode-remote?line=55'>56</a>\u001b[0m     h2,\n\u001b[1;32m     <a href='vscode-notebook-cell://ssh-remote%2Bsoundgarden.ochiailab.jp/home/shin/Dropbox/programming/python/ieee_security/journal/new_gpu2/test.ipynb#ch0000015vscode-remote?line=56'>57</a>\u001b[0m     hermitian(vh2)\n\u001b[1;32m     <a href='vscode-notebook-cell://ssh-remote%2Bsoundgarden.ochiailab.jp/home/shin/Dropbox/programming/python/ieee_security/journal/new_gpu2/test.ipynb#ch0000015vscode-remote?line=57'>58</a>\u001b[0m     ])\n\u001b[1;32m     <a href='vscode-notebook-cell://ssh-remote%2Bsoundgarden.ochiailab.jp/home/shin/Dropbox/programming/python/ieee_security/journal/new_gpu2/test.ipynb#ch0000015vscode-remote?line=58'>59</a>\u001b[0m \u001b[39mprint\u001b[39m(det(np\u001b[39m.\u001b[39mdot(h,W)))\n\u001b[0;32m---> <a href='vscode-notebook-cell://ssh-remote%2Bsoundgarden.ochiailab.jp/home/shin/Dropbox/programming/python/ieee_security/journal/new_gpu2/test.ipynb#ch0000015vscode-remote?line=59'>60</a>\u001b[0m \u001b[39mprint\u001b[39m(det(np\u001b[39m.\u001b[39;49mdot(h,W_2)))\n\u001b[1;32m     <a href='vscode-notebook-cell://ssh-remote%2Bsoundgarden.ochiailab.jp/home/shin/Dropbox/programming/python/ieee_security/journal/new_gpu2/test.ipynb#ch0000015vscode-remote?line=60'>61</a>\u001b[0m \u001b[39mprint\u001b[39m(det(np\u001b[39m.\u001b[39mdot(h,hermitian(h))))\n",
      "File \u001b[0;32m<__array_function__ internals>:5\u001b[0m, in \u001b[0;36mdet\u001b[0;34m(*args, **kwargs)\u001b[0m\n",
      "File \u001b[0;32m~/.pyenv/versions/3.9.5/lib/python3.9/site-packages/numpy/linalg/linalg.py:2156\u001b[0m, in \u001b[0;36mdet\u001b[0;34m(a)\u001b[0m\n\u001b[1;32m   <a href='file:///home/shin/.pyenv/versions/3.9.5/lib/python3.9/site-packages/numpy/linalg/linalg.py?line=2153'>2154</a>\u001b[0m a \u001b[39m=\u001b[39m asarray(a)\n\u001b[1;32m   <a href='file:///home/shin/.pyenv/versions/3.9.5/lib/python3.9/site-packages/numpy/linalg/linalg.py?line=2154'>2155</a>\u001b[0m _assert_stacked_2d(a)\n\u001b[0;32m-> <a href='file:///home/shin/.pyenv/versions/3.9.5/lib/python3.9/site-packages/numpy/linalg/linalg.py?line=2155'>2156</a>\u001b[0m _assert_stacked_square(a)\n\u001b[1;32m   <a href='file:///home/shin/.pyenv/versions/3.9.5/lib/python3.9/site-packages/numpy/linalg/linalg.py?line=2156'>2157</a>\u001b[0m t, result_t \u001b[39m=\u001b[39m _commonType(a)\n\u001b[1;32m   <a href='file:///home/shin/.pyenv/versions/3.9.5/lib/python3.9/site-packages/numpy/linalg/linalg.py?line=2157'>2158</a>\u001b[0m signature \u001b[39m=\u001b[39m \u001b[39m'\u001b[39m\u001b[39mD->D\u001b[39m\u001b[39m'\u001b[39m \u001b[39mif\u001b[39;00m isComplexType(t) \u001b[39melse\u001b[39;00m \u001b[39m'\u001b[39m\u001b[39md->d\u001b[39m\u001b[39m'\u001b[39m\n",
      "File \u001b[0;32m~/.pyenv/versions/3.9.5/lib/python3.9/site-packages/numpy/linalg/linalg.py:204\u001b[0m, in \u001b[0;36m_assert_stacked_square\u001b[0;34m(*arrays)\u001b[0m\n\u001b[1;32m    <a href='file:///home/shin/.pyenv/versions/3.9.5/lib/python3.9/site-packages/numpy/linalg/linalg.py?line=201'>202</a>\u001b[0m m, n \u001b[39m=\u001b[39m a\u001b[39m.\u001b[39mshape[\u001b[39m-\u001b[39m\u001b[39m2\u001b[39m:]\n\u001b[1;32m    <a href='file:///home/shin/.pyenv/versions/3.9.5/lib/python3.9/site-packages/numpy/linalg/linalg.py?line=202'>203</a>\u001b[0m \u001b[39mif\u001b[39;00m m \u001b[39m!=\u001b[39m n:\n\u001b[0;32m--> <a href='file:///home/shin/.pyenv/versions/3.9.5/lib/python3.9/site-packages/numpy/linalg/linalg.py?line=203'>204</a>\u001b[0m     \u001b[39mraise\u001b[39;00m LinAlgError(\u001b[39m'\u001b[39m\u001b[39mLast 2 dimensions of the array must be square\u001b[39m\u001b[39m'\u001b[39m)\n",
      "\u001b[0;31mLinAlgError\u001b[0m: Last 2 dimensions of the array must be square"
     ]
    }
   ],
   "source": [
    "import numpy as np\n",
    "from numpy.random import normal\n",
    "from numpy.linalg import norm\n",
    "from numpy.linalg import svd\n",
    "from numpy.linalg import pinv\n",
    "from numpy.linalg import multi_dot\n",
    "from numpy.linalg import det\n",
    "from scipy.linalg import null_space\n",
    "\n",
    "\n",
    "\n",
    "\n",
    "def hermitian(matrix):\n",
    "    return np.conjugate(matrix.T)\n",
    "\n",
    "def db2watt(db):\n",
    "    '''\n",
    "    Unit Transform dBm to Watt\n",
    "    input dB\n",
    "    output Watt\n",
    "    '''\n",
    "    watt = 10 ** (db / 10)\n",
    "    return watt\n",
    "\n",
    "sum = 0\n",
    "sum2= 0\n",
    "sum3 = 0\n",
    "K = 10 # db\n",
    "\n",
    "# k = db2watt(K)\n",
    "k = 0\n",
    "# for i in range(10000):\n",
    "h_nlos_real = normal(scale=np.sqrt(1/2),size=(2,3))\n",
    "h_nlos_imag = normal(scale=np.sqrt(1/2),size=(2,3))\n",
    "h_nlos = h_nlos_real + 1j * h_nlos_imag\n",
    "\n",
    "h2_nlos_real = normal(scale=np.sqrt(1/2),size=(2,3))\n",
    "h2_nlos_imag = normal(scale=np.sqrt(1/2),size=(2,3))\n",
    "h2_nlos = h2_nlos_real + 1j * h2_nlos_imag\n",
    "\n",
    "h_los = np.ones((2,3))\n",
    "h2_los = np.ones((2,3))\n",
    "\n",
    "\n",
    "\n",
    "h = np.sqrt(k / (k + 1)) * h_los + np.sqrt(1 / (k + 1)) * h_nlos\n",
    "h2 = np.sqrt(k / (k + 1)) * h2_los + np.sqrt(1 / (k + 1)) * h2_nlos\n",
    "\n",
    "\n",
    "u, Lambda, vh = svd(h)\n",
    "u2, Lambda2, vh2 = svd(h2)\n",
    "\n",
    "W = pinv(h)/norm(h,'fro')\n",
    "W_2 = multi_dot([\n",
    "    pinv(h),\n",
    "    h2,\n",
    "    hermitian(vh2)\n",
    "    ]) / norm(multi_dot([\n",
    "    pinv(h),\n",
    "    h2,\n",
    "    hermitian(vh2)\n",
    "    ]), 'fro')\n",
    "print(det(np.dot(h,W)))\n",
    "print(det(np.dot(h,W_2)))\n",
    "print(det(np.dot(h,hermitian(h))))\n",
    "# h_1 = np.hsplit(h,2)[0]\n",
    "# h_2 = np.hsplit(h,2)[1]\n",
    "# print(np.dot(h_los,hermitian(h_los)))\n",
    "\n",
    "# h_sum = h_1 + h_2\n",
    "\n",
    "# sum += np.trace(np.dot(h_2,hermitian(h_2)))\n",
    "# sum2 += np.trace(np.dot(h_nlos,hermitian(h_nlos)))\n",
    "# sum3 += np.trace(np.dot(h_sum,hermitian(h_sum)))\n",
    "\n",
    "# print(null_space(h_nlos).shape)\n",
    "# print(np.dot(h_nlos,null_space(h_nlos)))\n",
    "\n",
    "# a = np.trace(multi_dot([pinv(np.ones((2,3))), np.ones((2,3)), hermitian(np.ones((2,3)))]))\n",
    "# print(a)\n",
    "# print(np.trace(np.dot(np.ones((2,3)),np.ones((3,2)))))\n",
    "# print(np.sqrt(k / (k + 1)) * a\n",
    "#       + np.sqrt(1 / (k + 1)) * 6)\n",
    "# print(sum/10000)\n",
    "# print(sum2/10000)\n",
    "# print(sum3/10000)\n",
    "# (8.498383679533559+0j)\n"
   ]
  },
  {
   "cell_type": "code",
   "execution_count": 234,
   "metadata": {},
   "outputs": [
    {
     "name": "stdout",
     "output_type": "stream",
     "text": [
      "[3, 4, 5]\n"
     ]
    }
   ],
   "source": [
    "#!/usr/bin/env python3\n",
    "from functools import partial\n",
    "from itertools import repeat\n",
    "from multiprocessing import Pool, freeze_support\n",
    "\n",
    "def func(c, a, b):\n",
    "    return a + b + c\n",
    "\n",
    "def main():\n",
    "    counter = 0\n",
    "    a_args = 1\n",
    "    second_arg = 1\n",
    "    third_arg = [1,2,3]\n",
    "    with Pool(processes=4) as pool:\n",
    "        # L = pool.starmap(func, [(1, 1), (2, 1), (3, 1)])\n",
    "        # M = pool.starmap(func, zip(repeat(a_args), repeat(second_arg), third_arg))\n",
    "        N = pool.map(partial(func, a=second_arg, b=a_args), third_arg)\n",
    "        # assert L == M == N  \n",
    "    print(N)\n",
    "    # print(counter)\n",
    "    pool.close()\n",
    "if __name__==\"__main__\":\n",
    "    freeze_support()\n",
    "    main()"
   ]
  },
  {
   "cell_type": "code",
   "execution_count": 235,
   "metadata": {},
   "outputs": [
    {
     "ename": "ValueError",
     "evalue": "Input must be 1- or 2-d.",
     "output_type": "error",
     "traceback": [
      "\u001b[0;31m---------------------------------------------------------------------------\u001b[0m",
      "\u001b[0;31mValueError\u001b[0m                                Traceback (most recent call last)",
      "\u001b[1;32m/home/shin/Dropbox/programming/python/ieee_security/journal/new_gpu2/test.ipynb Cell 5'\u001b[0m in \u001b[0;36m<cell line: 3>\u001b[0;34m()\u001b[0m\n\u001b[1;32m      <a href='vscode-notebook-cell://ssh-remote%2Bsoundgarden.ochiailab.jp/home/shin/Dropbox/programming/python/ieee_security/journal/new_gpu2/test.ipynb#ch0000014vscode-remote?line=0'>1</a>\u001b[0m \u001b[39mimport\u001b[39;00m \u001b[39mnumpy\u001b[39;00m \u001b[39mas\u001b[39;00m \u001b[39mnp\u001b[39;00m\n\u001b[0;32m----> <a href='vscode-notebook-cell://ssh-remote%2Bsoundgarden.ochiailab.jp/home/shin/Dropbox/programming/python/ieee_security/journal/new_gpu2/test.ipynb#ch0000014vscode-remote?line=2'>3</a>\u001b[0m a \u001b[39m=\u001b[39m np\u001b[39m.\u001b[39;49mdiag(\u001b[39m3\u001b[39;49m)\n\u001b[1;32m      <a href='vscode-notebook-cell://ssh-remote%2Bsoundgarden.ochiailab.jp/home/shin/Dropbox/programming/python/ieee_security/journal/new_gpu2/test.ipynb#ch0000014vscode-remote?line=4'>5</a>\u001b[0m \u001b[39mprint\u001b[39m(a)\n",
      "File \u001b[0;32m<__array_function__ internals>:5\u001b[0m, in \u001b[0;36mdiag\u001b[0;34m(*args, **kwargs)\u001b[0m\n",
      "File \u001b[0;32m~/.pyenv/versions/3.9.5/lib/python3.9/site-packages/numpy/lib/twodim_base.py:283\u001b[0m, in \u001b[0;36mdiag\u001b[0;34m(v, k)\u001b[0m\n\u001b[1;32m    <a href='file:///home/shin/.pyenv/versions/3.9.5/lib/python3.9/site-packages/numpy/lib/twodim_base.py?line=280'>281</a>\u001b[0m     \u001b[39mreturn\u001b[39;00m diagonal(v, k)\n\u001b[1;32m    <a href='file:///home/shin/.pyenv/versions/3.9.5/lib/python3.9/site-packages/numpy/lib/twodim_base.py?line=281'>282</a>\u001b[0m \u001b[39melse\u001b[39;00m:\n\u001b[0;32m--> <a href='file:///home/shin/.pyenv/versions/3.9.5/lib/python3.9/site-packages/numpy/lib/twodim_base.py?line=282'>283</a>\u001b[0m     \u001b[39mraise\u001b[39;00m \u001b[39mValueError\u001b[39;00m(\u001b[39m\"\u001b[39m\u001b[39mInput must be 1- or 2-d.\u001b[39m\u001b[39m\"\u001b[39m)\n",
      "\u001b[0;31mValueError\u001b[0m: Input must be 1- or 2-d."
     ]
    }
   ],
   "source": [
    "import numpy as np\n",
    "\n",
    "a = np.diag(3)\n",
    "\n",
    "print(a)"
   ]
  },
  {
   "cell_type": "code",
   "execution_count": null,
   "metadata": {},
   "outputs": [
    {
     "name": "stdout",
     "output_type": "stream",
     "text": [
      "[[0.13426085+0.j         0.18941118-0.04121006j]\n",
      " [0.18941118+0.04121006j 0.86573915+0.j        ]]\n",
      "[[0.13426085+0.j         0.18941118-0.04121006j]\n",
      " [0.18941118+0.04121006j 0.86573915+0.j        ]]\n"
     ]
    }
   ],
   "source": [
    "import numpy as np\n",
    "from numpy.linalg import svd\n",
    "from numpy.random import normal \n",
    "from numpy.linalg import multi_dot\n",
    "from numpy.linalg import pinv\n",
    "from numpy.linalg import norm\n",
    "\n",
    "def hermitian(matrix):\n",
    "    return np.conjugate(matrix.T)\n",
    "\n",
    "\n",
    "sum = 0\n",
    "\n",
    "# for i in range(100000):\n",
    "a_real = normal(size=(2,4))\n",
    "a_imag = normal(size=(2,4))\n",
    "\n",
    "a = a_real + a_imag * 1j \n",
    "\n",
    "a_0 = np.hsplit(a,2)[0]\n",
    "a_1 = np.hsplit(a,1)[0]\n",
    "\n",
    "u_0, Lambda, vh_0 = svd(a_0)\n",
    "\n",
    "v_0 = hermitian(vh_0)\n",
    "w_0 = v_0\n",
    "w_1 = multi_dot([pinv(a_1),a_0,w_0])\n",
    "w_1_H = hermitian(w_1)\n",
    "w_2 = w_1 / norm(w_1, 'fro') \n",
    "print(np.dot(w_1,hermitian(w_1)) * norm(w_1, 'fro') ** (-2))\n",
    "print(np.dot(w_2,hermitian(w_2)))\n"
   ]
  },
  {
   "cell_type": "code",
   "execution_count": null,
   "metadata": {},
   "outputs": [],
   "source": [
    "import numpy as np\n",
    "\n",
    "a = 660\n",
    "\n",
    "b = 19980\n",
    "\n",
    "rate_a = 660 \n",
    "\n",
    "rate_b = 19980\n",
    "\n",
    "init = np.arange(30,3030,30)\n",
    "\n"
   ]
  },
  {
   "cell_type": "code",
   "execution_count": null,
   "metadata": {},
   "outputs": [
    {
     "name": "stdout",
     "output_type": "stream",
     "text": [
      "338863555\n",
      "odd number\n"
     ]
    }
   ],
   "source": [
    "# import numpy as np\n",
    "\n",
    "s = 1005\n",
    "\n",
    "sum = 0\n",
    "for i in range(1,s+1):\n",
    "    sum += i ** 2\n",
    "    # print(i)\n",
    "print(sum)\n",
    "if sum % 2 == 0:\n",
    "    print('even number')\n",
    "else:\n",
    "    print('odd number')"
   ]
  },
  {
   "cell_type": "code",
   "execution_count": null,
   "metadata": {},
   "outputs": [
    {
     "name": "stdout",
     "output_type": "stream",
     "text": [
      "3.1622776601683795e-05\n"
     ]
    }
   ],
   "source": [
    "import numpy as np\n",
    "\n",
    "from numpy.linalg import det\n",
    "from lib.customize_func import dbm2watt\n",
    "\n",
    "\n",
    "ps = dbm2watt(-15)\n",
    "sigma = dbm2watt(-114)\n",
    "\n",
    "\n",
    "\n",
    "print(a)"
   ]
  },
  {
   "cell_type": "code",
   "execution_count": null,
   "metadata": {},
   "outputs": [
    {
     "name": "stdout",
     "output_type": "stream",
     "text": [
      "0.022457765509737878\n",
      "0.02816046494326421\n",
      "0.03527622200473686\n",
      "0.0441357605202961\n",
      "0.05513673133338146\n",
      "0.06875176187496751\n",
      "0.0855345692571989\n",
      "0.10612237163019769\n",
      "0.13123235357043883\n",
      "0.16164966134692121\n",
      "0.19820458058155693\n",
      "0.24173747667284012\n",
      "0.29305196322267374\n",
      "0.35285952538675674\n",
      "0.42172191260182623\n",
      "0.5\n",
      "0.5878183173461944\n",
      "0.6850523348754931\n",
      "0.7913411774557781\n",
      "0.9061230956503127\n",
      "1.0286866043033975\n",
      "1.1582280898131299\n",
      "1.2939071867810155\n",
      "1.4348936095851426\n",
      "1.580402211956512\n",
      "1.7297158093186487\n",
      "1.8821971835214308\n",
      "2.0372926174527133\n",
      "2.1945294836815226\n",
      "2.3535101313644176\n",
      "2.5139038366752597\n",
      "51.31201490026233\n"
     ]
    }
   ],
   "source": [
    "import numpy as np\n",
    "from lib.customize_func import db2watt\n",
    "\n",
    "SNR = np.arange(-15,16,1)\n",
    "\n",
    "zeta = 0.5\n",
    "\n",
    "for SNR_index in range(len(SNR)):\n",
    "    snr = db2watt(SNR[SNR_index])\n",
    "    c = zeta * np.log2(1 + snr)\n",
    "    print(c)\n",
    "\n",
    "print(np.log10(135270)*10)"
   ]
  },
  {
   "cell_type": "code",
   "execution_count": null,
   "metadata": {},
   "outputs": [
    {
     "name": "stdout",
     "output_type": "stream",
     "text": [
      "3.1622776601683795e-05\n"
     ]
    }
   ],
   "source": [
    "import numpy as np\n",
    "from lib.customize_func import dbm2watt\n",
    "\n",
    "a = -15\n",
    "print(dbm2watt(a))"
   ]
  },
  {
   "cell_type": "code",
   "execution_count": null,
   "metadata": {},
   "outputs": [
    {
     "name": "stdout",
     "output_type": "stream",
     "text": [
      "[1. 2.]\n"
     ]
    }
   ],
   "source": [
    "import numpy as np\n",
    "\n",
    "a = np.array([])\n",
    "\n",
    "a = np.append(a,1)\n",
    "a = np.append(a,2)\n",
    "\n",
    "print(a)"
   ]
  },
  {
   "cell_type": "code",
   "execution_count": null,
   "metadata": {},
   "outputs": [
    {
     "name": "stdout",
     "output_type": "stream",
     "text": [
      "[1 0 3 4 5 5 0 0 0 0 0 0]\n",
      "[1 3 4 5 5]\n"
     ]
    }
   ],
   "source": [
    "import numpy as np\n",
    "import cupy as cp\n",
    "\n",
    "a = cp.array([1,0,3,4,5,5,0,0,0,0,0,0])\n",
    "\n",
    "print(a)\n",
    "a = a[a != 0]\n",
    "print(a)"
   ]
  },
  {
   "cell_type": "code",
   "execution_count": null,
   "metadata": {},
   "outputs": [
    {
     "name": "stdout",
     "output_type": "stream",
     "text": [
      "(1, 2)\n",
      "(1, 2)\n",
      "[3 4]\n",
      "(1, 3)\n",
      "(1, 3)\n",
      "[2 4]\n",
      "(1, 4)\n",
      "(1, 4)\n",
      "[2 3]\n",
      "(2, 3)\n",
      "(2, 3)\n",
      "[1 4]\n",
      "(2, 4)\n",
      "(2, 4)\n",
      "[1 3]\n",
      "(3, 4)\n",
      "(3, 4)\n",
      "[1 2]\n",
      "[[1.         0.         0.         0.        ]\n",
      " [0.         1.41421356 0.         0.        ]\n",
      " [0.         0.         1.73205081 0.        ]\n",
      " [0.         0.         0.         2.        ]]\n"
     ]
    }
   ],
   "source": [
    "import itertools as it\n",
    "import numpy as np\n",
    "\n",
    "\n",
    "stuff = np.array([1, 2, 3, 4])\n",
    "# for L in range(len(stuff)+1):\n",
    "# i = 0\n",
    "for subset in it.combinations(stuff, 2):\n",
    "    # i += 1\n",
    "    not_in_subset = np.array([i for i in stuff if i not in subset])\n",
    "    for j in range(len(subset)):\n",
    "        print(subset)\n",
    "    print(not_in_subset)\n",
    "\n",
    "print(np.diag(np.sqrt(stuff)))\n",
    "# print(subset) "
   ]
  },
  {
   "cell_type": "code",
   "execution_count": null,
   "metadata": {},
   "outputs": [
    {
     "name": "stdout",
     "output_type": "stream",
     "text": [
      "[[1. 1. 1.]\n",
      " [2. 2. 2.]\n",
      " [3. 3. 3.]]\n",
      "[1. 1. 1. 2. 2. 2. 3. 3. 3.]\n",
      "[[1. 0. 0. 0. 0. 0. 0. 0. 0.]\n",
      " [0. 1. 0. 0. 0. 0. 0. 0. 0.]\n",
      " [0. 0. 1. 0. 0. 0. 0. 0. 0.]\n",
      " [0. 0. 0. 2. 0. 0. 0. 0. 0.]\n",
      " [0. 0. 0. 0. 2. 0. 0. 0. 0.]\n",
      " [0. 0. 0. 0. 0. 2. 0. 0. 0.]\n",
      " [0. 0. 0. 0. 0. 0. 3. 0. 0.]\n",
      " [0. 0. 0. 0. 0. 0. 0. 3. 0.]\n",
      " [0. 0. 0. 0. 0. 0. 0. 0. 3.]]\n",
      "[[1.         0.         0.         0.         0.         0.\n",
      "  0.         0.         0.        ]\n",
      " [0.         1.         0.         0.         0.         0.\n",
      "  0.         0.         0.        ]\n",
      " [0.         0.         1.         0.         0.         0.\n",
      "  0.         0.         0.        ]\n",
      " [0.         0.         0.         1.41421356 0.         0.\n",
      "  0.         0.         0.        ]\n",
      " [0.         0.         0.         0.         1.41421356 0.\n",
      "  0.         0.         0.        ]\n",
      " [0.         0.         0.         0.         0.         1.41421356\n",
      "  0.         0.         0.        ]\n",
      " [0.         0.         0.         0.         0.         0.\n",
      "  1.73205081 0.         0.        ]\n",
      " [0.         0.         0.         0.         0.         0.\n",
      "  0.         1.73205081 0.        ]\n",
      " [0.         0.         0.         0.         0.         0.\n",
      "  0.         0.         1.73205081]]\n"
     ]
    }
   ],
   "source": [
    "import numpy as np\n",
    "\n",
    "a = np.arange(1,4)\n",
    "\n",
    "b = np.zeros([3,3])\n",
    "\n",
    "for i in range(3):\n",
    "    b[i] = np.ones(3) * a[i]\n",
    "    \n",
    "print(b)\n",
    "\n",
    "b = b.reshape(9)\n",
    "\n",
    "print(b)\n",
    "\n",
    "b = np.diag(b)\n",
    "\n",
    "print(b)\n",
    "\n",
    "b = np.sqrt(b)\n",
    "\n",
    "print(b)"
   ]
  },
  {
   "cell_type": "code",
   "execution_count": 189,
   "metadata": {},
   "outputs": [
    {
     "name": "stdout",
     "output_type": "stream",
     "text": [
      "[[ 0.  0.]\n",
      " [-0.  1.]]\n",
      "[[0. 0.]\n",
      " [0. 1.]]\n",
      "2\n"
     ]
    }
   ],
   "source": [
    "import numpy as np\n",
    "import numpy.linalg as LG\n",
    "\n",
    "a = np.array([[1,0],[-1/2,1]])\n",
    "\n",
    "w, x = LG.eig(a)\n",
    "\n",
    "print(a * x[:,0])\n",
    "print(w[0] * np.eye(2) * x[:,0])\n",
    "print(LG.matrix_rank(a))"
   ]
  },
  {
   "cell_type": "code",
   "execution_count": 225,
   "metadata": {},
   "outputs": [
    {
     "name": "stdout",
     "output_type": "stream",
     "text": [
      "(0.33210101786246127+4.489402266506353e-19j)\n"
     ]
    }
   ],
   "source": [
    "import numpy as np\n",
    "from numpy.random import normal\n",
    "from numpy.linalg import norm\n",
    "from numpy.linalg import pinv\n",
    "from numpy.linalg import det\n",
    "sum = 0\n",
    "for i in range(10000):\n",
    "    a_real = normal(loc=0.0,scale=np.sqrt(1/2),size=(2,2))\n",
    "    a_imag = normal(loc=0.0,scale=np.sqrt(1/2),size=(2,2))\n",
    "\n",
    "    a = a_real + 1j * a_imag\n",
    "\n",
    "    W = pinv(a)/(norm(a,'fro'))\n",
    "\n",
    "    sum += det(np.dot(a,W))\n",
    "print(sum/10000)"
   ]
  },
  {
   "cell_type": "code",
   "execution_count": null,
   "metadata": {},
   "outputs": [],
   "source": [
    "import numpy as np\n",
    "from numpy.random import normal\n",
    "from numpy.linalg import norm\n",
    "from numpy.linalg import pinv\n",
    "from numpy.linalg import det\n",
    "\n",
    "def hermitian(matrix):\n",
    "    return np.conjugate(matrix.T)\n",
    "\n",
    "\n",
    "\n",
    "a_real = normal(loc=0.0,scale=np.sqrt(1/2),size=(2,2))\n",
    "a_imag = normal(loc=0.0,scale=np.sqrt(1/2),size=(2,2))\n",
    "\n",
    "\n",
    "a_nlos = a_real + 1j * a_imag\n",
    "\n"
   ]
  },
  {
   "cell_type": "code",
   "execution_count": 3,
   "metadata": {},
   "outputs": [
    {
     "name": "stdout",
     "output_type": "stream",
     "text": [
      "1\n"
     ]
    }
   ],
   "source": [
    "import numpy as np\n",
    "\n",
    "a = np.min([1,2])\n",
    "\n",
    "print(a)"
   ]
  },
  {
   "cell_type": "code",
   "execution_count": 146,
   "metadata": {},
   "outputs": [
    {
     "name": "stdout",
     "output_type": "stream",
     "text": [
      "169.21561720451564\n",
      "(169.2156172045156+2.839916982146123e-17j)\n",
      "(169.2156172045156-2.302692940474929e-17j)\n"
     ]
    }
   ],
   "source": [
    "import numpy as np\n",
    "from numpy.random import normal\n",
    "from numpy.linalg import qr\n",
    "from numpy.linalg import svd\n",
    "from numpy.linalg import det\n",
    "\n",
    "from lib.customize_func import dbm2watt\n",
    "\n",
    "def hermitian(matrix):\n",
    "    return np.conjugate(matrix.T)\n",
    "\n",
    "P = 10 # dbm\n",
    "sigma = -114 # dbm\n",
    "\n",
    "\n",
    "sigma_u = dbm2watt(sigma)\n",
    "p = dbm2watt(P)\n",
    "\n",
    "a_x = normal(loc = 0, scale= np.sqrt(1/2),size=(4,10))\n",
    "a_y = normal(loc = 0, scale= np.sqrt(1/2),size=(4,10))\n",
    "\n",
    "a_nlos = a_x + 1j * a_y\n",
    "\n",
    "q, r = qr(a_nlos)\n",
    "\n",
    "u, Sigma, vh = svd(a_nlos)\n",
    "if a_nlos.shape[0] > a_nlos.shape[1]:\n",
    "    Sigma = np.append(Sigma, np.zeros(int(np.abs(a_nlos.shape[0] - a_nlos.shape[1]))))\n",
    "Sigma_matrix = np.diag(Sigma)\n",
    "\n",
    "\n",
    "print(np.log2(det(np.eye(a_nlos.shape[0]) + p/(4 * sigma_u) * np.dot(Sigma_matrix,Sigma_matrix))))\n",
    "print(np.log2(det(np.eye(a_nlos.shape[0]) + p/(4 * sigma_u) * np.dot(a_nlos,hermitian(a_nlos)))))\n",
    "print(np.log2(det(np.eye(a_nlos.shape[0]) + p/(4 * sigma_u) * np.dot(r,hermitian(r)))))"
   ]
  },
  {
   "cell_type": "code",
   "execution_count": null,
   "metadata": {},
   "outputs": [],
   "source": [
    "import numpy as np\n",
    "\n",
    "from scipy.special import erf\n",
    "\n",
    "def gaussian_q(x):\n",
    "    0.5 - 0.5 * erf(x/np.sqrt(2)) \n",
    "    \n",
    "\n",
    "\n",
    "\n",
    "# print(0.5 - 0.5 * erf())"
   ]
  }
 ],
 "metadata": {
  "interpreter": {
   "hash": "087f681e7deb61c0d31f715ec5ade81911670c147af2e79fd9eabbdd28f3f0fe"
  },
  "kernelspec": {
   "display_name": "Python 3.9.5 64-bit ('3.9.5')",
   "language": "python",
   "name": "python3"
  },
  "language_info": {
   "codemirror_mode": {
    "name": "ipython",
    "version": 3
   },
   "file_extension": ".py",
   "mimetype": "text/x-python",
   "name": "python",
   "nbconvert_exporter": "python",
   "pygments_lexer": "ipython3",
   "version": "3.9.5"
  },
  "orig_nbformat": 4
 },
 "nbformat": 4,
 "nbformat_minor": 2
}
